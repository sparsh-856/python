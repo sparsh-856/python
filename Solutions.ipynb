{
 "cells": [
  {
   "cell_type": "code",
   "execution_count": 1,
   "metadata": {},
   "outputs": [
    {
     "name": "stdout",
     "output_type": "stream",
     "text": [
      "This is a test\n",
      "This is not a test\n",
      "1.Nat a number, check your file\n",
      "125.12.56.7 this is my ip\n",
      "101 find me if you can\n",
      "A1 feel the code\n"
     ]
    }
   ],
   "source": [
    "## Sample 1\n",
    "f=open(\"sample.txt\", \"r\")\n",
    "if f.mode=='r':\n",
    "    contents = f.read()\n",
    "    print(contents)"
   ]
  },
  {
   "cell_type": "code",
   "execution_count": 2,
   "metadata": {},
   "outputs": [
    {
     "name": "stdout",
     "output_type": "stream",
     "text": [
      "1.Nat a number, check your file\n",
      "\n",
      "125.12.56.7 this is my ip\n",
      "\n",
      "101 find me if you can\n",
      "\n"
     ]
    }
   ],
   "source": [
    "##import re\n",
    "#Reading Line by line\n",
    "f=open(\"sample.txt\", \"r\") ##Creating Sample file object if not present it will create\n",
    "f1 = f.readlines() ##This will read line by line\n",
    "for x in f1:\n",
    "    if x[0].isdigit():\n",
    "        print(x)"
   ]
  },
  {
   "cell_type": "code",
   "execution_count": 3,
   "metadata": {},
   "outputs": [],
   "source": [
    "#Reading Line by line\n",
    "f=open(\"sample.txt\", \"r\") ##Creating Sample file object\n",
    "f1 = f.readlines() ##This will read line by line\n",
    "f2 = open(\"solution.txt\",\"w+\")\n",
    "for x in f1:\n",
    "    if x[0].isdigit():\n",
    "          f2.write(x)"
   ]
  },
  {
   "cell_type": "code",
   "execution_count": 4,
   "metadata": {},
   "outputs": [],
   "source": [
    "for x in f2:\n",
    "    print(x)"
   ]
  },
  {
   "cell_type": "code",
   "execution_count": 5,
   "metadata": {},
   "outputs": [
    {
     "name": "stdout",
     "output_type": "stream",
     "text": [
      "This is a test\n",
      "A1 feel the code\n",
      "101 find me if you can\n",
      "This is not a test\n",
      "125.12.56.7 this is my ip\n",
      "101 find me if you can\n"
     ]
    }
   ],
   "source": [
    "### 2nd Program\n",
    "input_file = open(\"sample2.txt\",\"r\")\n",
    "output_file = open(\"solution2.txt\",'w')\n",
    "f = input_file.readlines()\n",
    "unique = set()\n",
    "for x in f:\n",
    "    if x not in unique:\n",
    "        output_file.write(x)\n",
    "        unique.add(x)\n",
    "output_file.close()\n",
    "\n",
    "#Reading lines in output file\n",
    "f=open(\"solution2.txt\", \"r\")\n",
    "if f.mode=='r':\n",
    "    contents = f.read()\n",
    "    print(contents)"
   ]
  },
  {
   "cell_type": "code",
   "execution_count": 25,
   "metadata": {},
   "outputs": [
    {
     "name": "stdout",
     "output_type": "stream",
     "text": [
      "Enter stringhelloworldtopython\n",
      "o\n"
     ]
    }
   ],
   "source": [
    "##Problem 3\n",
    "import operator\n",
    "\n",
    "\"\"\"Getting maximum occuring character and returning it\"\"\"\n",
    "def maxoccur(take):\n",
    "    dic = {}\n",
    "    for letter in split:\n",
    "        dic[letter]=int(inp.count(letter))\n",
    "    sorted_d = dict( sorted(dic.items(), key=operator.itemgetter(1),reverse=True))    \n",
    "    #print('Dictionary in descending order by value : ',sorted_d)\n",
    "    res = list(sorted_d.keys())[0]\n",
    "    return res\n",
    "\n",
    "\"\"\"Taking string from user\"\"\"\n",
    "inp = input(\"Enter string\")\n",
    "split = set(list(inp))\n",
    "result =  maxoccur(split)\n",
    "print(result)\n",
    "\n"
   ]
  },
  {
   "cell_type": "code",
   "execution_count": null,
   "metadata": {},
   "outputs": [],
   "source": []
  }
 ],
 "metadata": {
  "kernelspec": {
   "display_name": "Python 3",
   "language": "python",
   "name": "python3"
  },
  "language_info": {
   "codemirror_mode": {
    "name": "ipython",
    "version": 3
   },
   "file_extension": ".py",
   "mimetype": "text/x-python",
   "name": "python",
   "nbconvert_exporter": "python",
   "pygments_lexer": "ipython3",
   "version": "3.7.6"
  }
 },
 "nbformat": 4,
 "nbformat_minor": 4
}
